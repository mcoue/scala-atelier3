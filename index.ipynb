{
 "cells": [
  {
   "cell_type": "markdown",
   "id": "44584dbf",
   "metadata": {},
   "source": [
    "# ATELIER 2"
   ]
  },
  {
   "cell_type": "markdown",
   "id": "532e0448",
   "metadata": {},
   "source": [
    "### ÉTAPE 1"
   ]
  },
  {
   "cell_type": "code",
   "execution_count": 2,
   "id": "9863aff3",
   "metadata": {},
   "outputs": [],
   "source": [
    "import scala.collection.immutable.HashMap\n",
    "import scala.util.Random"
   ]
  },
  {
   "cell_type": "code",
   "execution_count": 3,
   "id": "7c7cad23",
   "metadata": {},
   "outputs": [
    {
     "data": {
      "text/plain": [
       "defined class Employee\n",
       "defined class MediaType\n",
       "defined class Genre\n",
       "defined class Track\n",
       "defined class InvoiceItem\n",
       "defined class Invoice\n"
      ]
     },
     "metadata": {},
     "output_type": "display_data"
    }
   ],
   "source": [
    "case class Employee(\n",
    "    val id: Int,\n",
    "    val lastName: String,\n",
    "    val firstName: String,\n",
    "    val title: String,\n",
    "    val reportsTo: Int\n",
    ")\n",
    "\n",
    "case class MediaType(val id: Int, val name: String)\n",
    "\n",
    "case class Genre(val id: Int, val name: String)\n",
    "\n",
    "case class Track(\n",
    "    val id: Int,\n",
    "    val name: String,\n",
    "    val genreId: Int,\n",
    "    val mediaTypeId: Int\n",
    ")\n",
    "\n",
    "case class InvoiceItem(\n",
    "    val id: Int,\n",
    "    val invoiceId: Int,\n",
    "    val trackId: Int,\n",
    "    val unitPrice: Double,\n",
    "    val quantity: Int\n",
    ")\n",
    "\n",
    "case class Invoice(val id: Int, val invoiceListItem: List[InvoiceItem])\n"
   ]
  },
  {
   "cell_type": "markdown",
   "id": "4ab8df1b",
   "metadata": {},
   "source": [
    "### ÉTAPE 2"
   ]
  },
  {
   "cell_type": "code",
   "execution_count": 4,
   "id": "ea3c6738",
   "metadata": {},
   "outputs": [
    {
     "data": {
      "text/plain": [
       "genres = List(Genre(1,Rock), Genre(2,Jazz), Genre(3,Metal), Genre(4,Alternative & Punk), Genre(5,Rock And Roll), Genre(6,Blues), Genre(7,Latin), Genre(8,Reggae), Genre(9,Pop), Genre(10,Soundtrack), Genre(11,Bossa Nova), Genre(12,Easy Listening), Genre(13,Heavy Metal), Genre(14,R&B/Soul), Genre(15,Electronica/Dance), Genre(16,World), Genre(17,Hip Hop/Rap), Genre(18,Science Fiction), Genre(19,TV Shows), Genre(20,Sci Fi & Fantasy), Genre(21,Drama), Genre(22,Comedy), Genre(23,Alternative), Genre(24,Classical), Genre(25,Opera))\n",
       "mediaTypes = List(MediaType(1,MPEG audio file), MediaType(2,Protected AAC audio file), MediaType(3,Protected MPEG-4 video file), MediaType(4,Purchased AAC audio file), MediaType(5,AAC audio file))\n",
       "employees = List(Employee...\n"
      ]
     },
     "metadata": {},
     "output_type": "display_data"
    },
    {
     "data": {
      "text/plain": [
       "List(Employee..."
      ]
     },
     "execution_count": 4,
     "metadata": {},
     "output_type": "execute_result"
    }
   ],
   "source": [
    "val genres: List[Genre] = List(\n",
    "  new Genre(1, \"Rock\"),\n",
    "  new Genre(2, \"Jazz\"),\n",
    "  new Genre(3, \"Metal\"),\n",
    "  new Genre(4, \"Alternative & Punk\"),\n",
    "  new Genre(5, \"Rock And Roll\"),\n",
    "  new Genre(6, \"Blues\"),\n",
    "  new Genre(7, \"Latin\"),\n",
    "  new Genre(8, \"Reggae\"),\n",
    "  new Genre(9, \"Pop\"),\n",
    "  new Genre(10, \"Soundtrack\"),\n",
    "  new Genre(11, \"Bossa Nova\"),\n",
    "  new Genre(12, \"Easy Listening\"),\n",
    "  new Genre(13, \"Heavy Metal\"),\n",
    "  new Genre(14, \"R&B/Soul\"),\n",
    "  new Genre(15, \"Electronica/Dance\"),\n",
    "  new Genre(16, \"World\"),\n",
    "  new Genre(17, \"Hip Hop/Rap\"),\n",
    "  new Genre(18, \"Science Fiction\"),\n",
    "  new Genre(19, \"TV Shows\"),\n",
    "  new Genre(20, \"Sci Fi & Fantasy\"),\n",
    "  new Genre(21, \"Drama\"),\n",
    "  new Genre(22, \"Comedy\"),\n",
    "  new Genre(23, \"Alternative\"),\n",
    "  new Genre(24, \"Classical\"),\n",
    "  new Genre(25, \"Opera\")\n",
    ")\n",
    "\n",
    "val mediaTypes: List[MediaType] = List(\n",
    "  new MediaType(1, \"MPEG audio file\"),\n",
    "  new MediaType(2, \"Protected AAC audio file\"),\n",
    "  new MediaType(3, \"Protected MPEG-4 video file\"),\n",
    "  new MediaType(4, \"Purchased AAC audio file\"),\n",
    "  new MediaType(5, \"AAC audio file\")\n",
    ")\n",
    "\n",
    "val employees: List[Employee] = List(\n",
    "  new Employee(1, \"Adams\", \"Andrew\", \"General Manager\", 0),\n",
    "  new Employee(2, \"Edwards\", \"Nancy\", \"Sales Manager\", 1),\n",
    "  new Employee(3, \"Peacock\", \"Jane\", \"Sales Support Agent\", 2),\n",
    "  new Employee(4, \"Park\", \"Margaret\", \"Sales Support Agent\", 2),\n",
    "  new Employee(5, \"Johnson\", \"Steve\", \"Sales Support Agent\", 2),\n",
    "  new Employee(6, \"Mitchell\", \"Michael\", \"IT Manager\", 1),\n",
    "  new Employee(7, \"King\", \"Robert\", \"IT Staff\", 6),\n",
    "  new Employee(8, \"Callahan\", \"Laura\", \"IT Staff\", 6)\n",
    ")\n",
    "\n",
    "val adjectifs: HashMap[Int, String] = HashMap(\n",
    "  1 -> \"Cosmic\",\n",
    "  2 -> \"Electric\",\n",
    "  3 -> \"Velvet\",\n",
    "  4 -> \"Mystic\",\n",
    "  5 -> \"Atomic\",\n",
    "  6 -> \"Phantom\",\n",
    "  7 -> \"Silent\",\n",
    "  8 -> \"Savage\",\n",
    "  9 -> \"Eternal\",\n",
    "  10 -> \"Digital\",\n",
    "  11 -> \"Lost\",\n",
    "  12 -> \"Sacred\",\n",
    "  13 -> \"Wild\",\n",
    "  14 -> \"Urban\",\n",
    "  15 -> \"Golden\",\n",
    "  16 -> \"Crystal\",\n",
    "  17 -> \"Liquid\",\n",
    "  18 -> \"Toxic\",\n",
    "  19 -> \"Neon\",\n",
    "  20 -> \"Crimson\",\n",
    "  21 -> \"Stellar\",\n",
    "  22 -> \"Raging\",\n",
    "  23 -> \"Arctic\",\n",
    "  24 -> \"Sonic\",\n",
    "  25 -> \"Primal\",\n",
    "  26 -> \"Midnight\",\n",
    "  27 -> \"Screaming\",\n",
    "  28 -> \"Infinite\",\n",
    "  29 -> \"Royal\",\n",
    "  30 -> \"Lunar\"\n",
    ")\n",
    "\n",
    "val noms: HashMap[Int, String] = HashMap(\n",
    "  1 -> \"Echo\",\n",
    "  2 -> \"Giants\",\n",
    "  3 -> \"Wolves\",\n",
    "  4 -> \"Horizon\",\n",
    "  5 -> \"Empire\",\n",
    "  6 -> \"Void\",\n",
    "  7 -> \"Thunder\",\n",
    "  8 -> \"Dragons\",\n",
    "  9 -> \"Saints\",\n",
    "  10 -> \"Kings\",\n",
    "  11 -> \"Ghosts\",\n",
    "  12 -> \"Ravens\",\n",
    "  13 -> \"Pirates\",\n",
    "  14 -> \"Heroes\",\n",
    "  15 -> \"Rebels\",\n",
    "  16 -> \"Demons\",\n",
    "  17 -> \"Machines\",\n",
    "  18 -> \"Angels\",\n",
    "  19 -> \"Knights\",\n",
    "  20 -> \"Lions\",\n",
    "  21 -> \"Shadows\",\n",
    "  22 -> \"Zombies\",\n",
    "  23 -> \"Wizards\",\n",
    "  24 -> \"Killers\",\n",
    "  25 -> \"Titans\",\n",
    "  26 -> \"Outlaws\",\n",
    "  27 -> \"Rebels\",\n",
    "  28 -> \"Prophets\",\n",
    "  29 -> \"Bandits\",\n",
    "  30 -> \"Warriors\"\n",
    ")\n",
    "\n",
    "val complements: HashMap[Int, String] = HashMap(\n",
    "  1 -> \"of Doom\",\n",
    "  2 -> \"in Chains\",\n",
    "  3 -> \"from Mars\",\n",
    "  4 -> \"of the North\",\n",
    "  5 -> \"of Death\",\n",
    "  6 -> \"in Disguise\",\n",
    "  7 -> \"of the Night\",\n",
    "  8 -> \"from Hell\",\n",
    "  9 -> \"of Tomorrow\",\n",
    "  10 -> \"in Flames\",\n",
    "  11 -> \"of the Deep\",\n",
    "  12 -> \"from Beyond\",\n",
    "  13 -> \"of Destruction\",\n",
    "  14 -> \"in Shadow\",\n",
    "  15 -> \"from the Sky\",\n",
    "  16 -> \"of the Abyss\",\n",
    "  17 -> \"in Exile\",\n",
    "  18 -> \"from the East\",\n",
    "  19 -> \"of Eternity\",\n",
    "  20 -> \"from the Desert\",\n",
    "  21 -> \"of the Underground\"\n",
    ")"
   ]
  },
  {
   "cell_type": "code",
   "execution_count": 5,
   "id": "5000dec4",
   "metadata": {},
   "outputs": [
    {
     "data": {
      "text/plain": [
       "defined object Track\n"
      ]
     },
     "metadata": {},
     "output_type": "display_data"
    },
    {
     "data": {
      "text/plain": [
       "warning: previously defined class Track is not a companion to object Track.\n",
       "Companions must be defined together; you may wish to use :paste mode for this.\n"
      ]
     },
     "metadata": {},
     "output_type": "display_data"
    }
   ],
   "source": [
    "object Track {\n",
    "  def generateTrack(id: Int): Track = {\n",
    "    val randomAdjective: String = adjectifs.getOrElse(Random.nextInt(30) + 1, \"\")\n",
    "    val randomName: String = noms.getOrElse(Random.nextInt(30) + 1, \"\")\n",
    "    val randomComplement: String = complements.getOrElse(Random.nextInt(21) + 1, \"\")\n",
    "    \n",
    "    val title: String = s\"$randomAdjective $randomName $randomComplement\"\n",
    "    val genreId: Int = genres(Random.nextInt(genres.size)).id\n",
    "    val mediaTypeId: Int = mediaTypes(Random.nextInt(mediaTypes.size)).id\n",
    "\n",
    "    new Track(id, title, genreId, mediaTypeId)\n",
    "  }\n",
    "}"
   ]
  },
  {
   "cell_type": "code",
   "execution_count": 6,
   "id": "c5c29411",
   "metadata": {},
   "outputs": [
    {
     "data": {
      "text/plain": [
       "trackList = List(Track(1,Stellar Thunder in Exile,15,5), Track(2,Sacred Bandits in Exile,12,3), Track(3,Urban Prophets from Mars,9,2), Track(4,Atomic Saints of Destruction,3,4), Track(5,Golden Knights of the Abyss,4,2), Track(6,Primal Titans in Exile,23,5), Track(7,Digital Lions from Hell,3,1), Track(8,Digital Thunder of the Underground,1,3), Track(9,Eternal Empire from the Desert,9,1), Track(10,Infinite Wolves in Shadow,11,4), Track(11,Eternal Knights of Death,3,4), Track(12,Lunar Lions from Mars,19,5), Track(13,Silent Titans of the Underground,17,5), Track(14,Royal Outlaws of the Abyss,24,3), Track(15,Lunar Ghosts of Destruction,5,3), Track(16,Infinite Giants of the Underground,21,3), Track(17,Velvet Lions from Mars,18,3), Track(18,Midnight Bandits from the Sky,13,4), Tra...\n"
      ]
     },
     "metadata": {},
     "output_type": "display_data"
    },
    {
     "data": {
      "text/plain": [
       "List(Track(1,Stellar Thunder in Exile,15,5), Track(2,Sacred Bandits in Exile,12,3), Track(3,Urban Prophets from Mars,9,2), Track(4,Atomic Saints of Destruction,3,4), Track(5,Golden Knights of the Abyss,4,2), Track(6,Primal Titans in Exile,23,5), Track(7,Digital Lions from Hell,3,1), Track(8,Digital Thunder of the Underground,1,3), Track(9,Eternal Empire from the Desert,9,1), Track(10,Infinite Wolves in Shadow,11,4), Track(11,Eternal Knights of Death,3,4), Track(12,Lunar Lions from Mars,19,5), Track(13,Silent Titans of the Underground,17,5), Track(14,Royal Outlaws of the Abyss,24,3), Track(15,Lunar Ghosts of Destruction,5,3), Track(16,Infinite Giants of the Underground,21,3), Track(17,Velvet Lions from Mars,18,3), Track(18,Midnight Bandits from the Sky,13,4), Tra..."
      ]
     },
     "execution_count": 6,
     "metadata": {},
     "output_type": "execute_result"
    }
   ],
   "source": [
    "val trackList: List[Track] = (for(index <- 1 to 200) yield {\n",
    "  Track.generateTrack(index)\n",
    "}).toList"
   ]
  },
  {
   "cell_type": "code",
   "execution_count": 7,
   "id": "d11b31b9",
   "metadata": {},
   "outputs": [
    {
     "data": {
      "text/plain": [
       "defined object Invoice\n"
      ]
     },
     "metadata": {},
     "output_type": "display_data"
    },
    {
     "data": {
      "text/plain": [
       "warning: previously defined class Invoice is not a companion to object Invoice.\n",
       "Companions must be defined together; you may wish to use :paste mode for this.\n"
      ]
     },
     "metadata": {},
     "output_type": "display_data"
    }
   ],
   "source": [
    "object Invoice {\n",
    "  def generateInvoice(id: Int): Invoice = { \n",
    "      val invoiceItemList: List[InvoiceItem] = (for(index <- 1 to Random.nextInt(5)+1) yield {\n",
    "        val trackId = trackList(Random.nextInt(trackList.size)).id\n",
    "        \n",
    "        new InvoiceItem(index, id, trackId, 10.35, 1)      \n",
    "      }).toList\n",
    "\n",
    "      new Invoice(id, invoiceItemList)\n",
    "  }  \n",
    "}"
   ]
  },
  {
   "cell_type": "code",
   "execution_count": 8,
   "id": "d363d830",
   "metadata": {},
   "outputs": [
    {
     "data": {
      "text/plain": [
       "invoiceList = List(Invoice(1,List(InvoiceItem(1,1,43,10.35,1))), Invoice(2,List(InvoiceItem(1,2,152,10.35,1), InvoiceItem(2,2,184,10.35,1), InvoiceItem(3,2,147,10.35,1), InvoiceItem(4,2,1,10.35,1))), Invoice(3,List(InvoiceItem(1,3,10,10.35,1))), Invoice(4,List(InvoiceItem(1,4,92,10.35,1))), Invoice(5,List(InvoiceItem(1,5,94,10.35,1), InvoiceItem(2,5,143,10.35,1))), Invoice(6,List(InvoiceItem(1,6,82,10.35,1))), Invoice(7,List(InvoiceItem(1,7,49,10.35,1), InvoiceItem(2,7,162,10.35,1), InvoiceItem(3,7,90,10.35,1), InvoiceItem(4,7,51,10.35,1))), Invoice(8,List(InvoiceItem(1,8,5,10.35,1), InvoiceItem(2,8,56,10.35,1), InvoiceItem(3,8,7,10.35,1))), Invoice(9,List(InvoiceItem(1,9,80,10.35,1), InvoiceItem(2,9,80,10.35,1), InvoiceItem(3,9,162,10.35,1))), Invoice(10,List(InvoiceItem...\n"
      ]
     },
     "metadata": {},
     "output_type": "display_data"
    },
    {
     "data": {
      "text/plain": [
       "List(Invoice(1,List(InvoiceItem(1,1,43,10.35,1))), Invoice(2,List(InvoiceItem(1,2,152,10.35,1), InvoiceItem(2,2,184,10.35,1), InvoiceItem(3,2,147,10.35,1), InvoiceItem(4,2,1,10.35,1))), Invoice(3,List(InvoiceItem(1,3,10,10.35,1))), Invoice(4,List(InvoiceItem(1,4,92,10.35,1))), Invoice(5,List(InvoiceItem(1,5,94,10.35,1), InvoiceItem(2,5,143,10.35,1))), Invoice(6,List(InvoiceItem(1,6,82,10.35,1))), Invoice(7,List(InvoiceItem(1,7,49,10.35,1), InvoiceItem(2,7,162,10.35,1), InvoiceItem(3,7,90,10.35,1), InvoiceItem(4,7,51,10.35,1))), Invoice(8,List(InvoiceItem(1,8,5,10.35,1), InvoiceItem(2,8,56,10.35,1), InvoiceItem(3,8,7,10.35,1))), Invoice(9,List(InvoiceItem(1,9,80,10.35,1), InvoiceItem(2,9,80,10.35,1), InvoiceItem(3,9,162,10.35,1))), Invoice(10,List(InvoiceItem..."
      ]
     },
     "execution_count": 8,
     "metadata": {},
     "output_type": "execute_result"
    }
   ],
   "source": [
    "val invoiceList: List[Invoice] = (for(index <- 1 to 2000) yield {\n",
    "  Invoice.generateInvoice(index)\n",
    "}).toList"
   ]
  },
  {
   "cell_type": "markdown",
   "id": "d74b8aed",
   "metadata": {},
   "source": [
    "# ATELIER 3"
   ]
  },
  {
   "cell_type": "markdown",
   "id": "10c27d6c",
   "metadata": {},
   "source": [
    "### ÉTAPE 1"
   ]
  },
  {
   "cell_type": "code",
   "execution_count": 9,
   "id": "fe5191aa",
   "metadata": {},
   "outputs": [
    {
     "data": {
      "text/plain": [
       "medias = List(MediaType(2,Protected AAC audio file), MediaType(3,Protected MPEG-4 video file))\n",
       "mediasId = List(2, 3)\n",
       "filteredTrackList = List(Track(2,Sacred Bandits in Exile,12,3), Track(3,Urban Prophets from Mars,9,2), Track(5,Golden Knights of the Abyss,4,2), Track(8,Digital Thunder of the Underground,1,3), Track(14,Royal Outlaws of the Abyss,24,3), Track(15,Lunar Ghosts of Destruction,5,3), Track(16,Infinite Giants of the Underground,21,3), Track(17,Velvet Lions from Mars,18,3), Track(21,Silent Prophets from Beyond,15,3), Track(24,Liquid Void of Eternity,21,2), Track(25,Urban Knights of the Abyss,17,2), Track(28,Midnight Pirates of the Underground,11,2), Track(30,Infinite Lions of the Abyss,2,3), Track(32,Sonic Wolves of Doom,2,2), Track(39,Mi...\n"
      ]
     },
     "metadata": {},
     "output_type": "display_data"
    },
    {
     "data": {
      "text/plain": [
       "List(Track(2,Sacred Bandits in Exile,12,3), Track(3,Urban Prophets from Mars,9,2), Track(5,Golden Knights of the Abyss,4,2), Track(8,Digital Thunder of the Underground,1,3), Track(14,Royal Outlaws of the Abyss,24,3), Track(15,Lunar Ghosts of Destruction,5,3), Track(16,Infinite Giants of the Underground,21,3), Track(17,Velvet Lions from Mars,18,3), Track(21,Silent Prophets from Beyond,15,3), Track(24,Liquid Void of Eternity,21,2), Track(25,Urban Knights of the Abyss,17,2), Track(28,Midnight Pirates of the Underground,11,2), Track(30,Infinite Lions of the Abyss,2,3), Track(32,Sonic Wolves of Doom,2,2), Track(39,Mi..."
      ]
     },
     "execution_count": 9,
     "metadata": {},
     "output_type": "execute_result"
    }
   ],
   "source": [
    "val medias: List[MediaType] = List(mediaTypes(1), mediaTypes(2))\n",
    "val mediasId: List[Int] = medias.map(_.id)\n",
    "\n",
    "val filteredTrackList: List[Track] = trackList.filter(track => mediasId.contains(track.mediaTypeId))"
   ]
  },
  {
   "cell_type": "code",
   "execution_count": 10,
   "id": "3e2f870e",
   "metadata": {},
   "outputs": [
    {
     "data": {
      "text/plain": [
       "invoiceListGenre1 = List(Invoice(1,List(InvoiceItem(1,1,43,10.35,1))), Invoice(9,List(InvoiceItem(1,9,80,10.35,1), InvoiceItem(2,9,80,10.35,1), InvoiceItem(3,9,162,10.35,1))), Invoice(12,List(InvoiceItem(1,12,43,10.35,1))), Invoice(454,List(InvoiceItem(1,454,8,10.35,1))), Invoice(528,List(InvoiceItem(1,528,109,10.35,1))), Invoice(818,List(InvoiceItem(1,818,109,10.35,1))), Invoice(822,List(InvoiceItem(1,822,43,10.35,1))), Invoice(862,List(InvoiceItem(1,862,43,10.35,1))), Invoice(885,List(InvoiceItem(1,885,29,10.35,1))), Invoice(926,List(InvoiceItem(1,926,80,10.35,1))), Invoice(1064,List(InvoiceItem(1,1064,43,10.35,1))), Invoice(1070,List(InvoiceItem(1,1070,8,10.35,1))), Invoice(1136,List(InvoiceItem(1,1136,8,10.35,1))), Invoice(1332,List(InvoiceItem(1,1332,109,10.35,1), In...\n"
      ]
     },
     "metadata": {},
     "output_type": "display_data"
    },
    {
     "data": {
      "text/plain": [
       "List(Invoice(1,List(InvoiceItem(1,1,43,10.35,1))), Invoice(9,List(InvoiceItem(1,9,80,10.35,1), InvoiceItem(2,9,80,10.35,1), InvoiceItem(3,9,162,10.35,1))), Invoice(12,List(InvoiceItem(1,12,43,10.35,1))), Invoice(454,List(InvoiceItem(1,454,8,10.35,1))), Invoice(528,List(InvoiceItem(1,528,109,10.35,1))), Invoice(818,List(InvoiceItem(1,818,109,10.35,1))), Invoice(822,List(InvoiceItem(1,822,43,10.35,1))), Invoice(862,List(InvoiceItem(1,862,43,10.35,1))), Invoice(885,List(InvoiceItem(1,885,29,10.35,1))), Invoice(926,List(InvoiceItem(1,926,80,10.35,1))), Invoice(1064,List(InvoiceItem(1,1064,43,10.35,1))), Invoice(1070,List(InvoiceItem(1,1070,8,10.35,1))), Invoice(1136,List(InvoiceItem(1,1136,8,10.35,1))), Invoice(1332,List(InvoiceItem(1,1332,109,10.35,1), In..."
      ]
     },
     "execution_count": 10,
     "metadata": {},
     "output_type": "execute_result"
    }
   ],
   "source": [
    "val invoiceListGenre1: List[Invoice] = invoiceList.filter { invoice =>\n",
    "  val trackIds = invoice.invoiceListItem.map(_.trackId)\n",
    "  val tracksInInvoice = trackIds.flatMap(id => trackList.find(_.id == id))\n",
    "  \n",
    "  val genre1Count = tracksInInvoice.count(_.genreId == 1)\n",
    "  val total = tracksInInvoice.size\n",
    "\n",
    "  total > 0 && genre1Count > total / 2\n",
    "}"
   ]
  },
  {
   "cell_type": "markdown",
   "id": "4a107bf2",
   "metadata": {},
   "source": [
    "### ÉTAPE 2"
   ]
  },
  {
   "cell_type": "code",
   "execution_count": 11,
   "id": "67405d06",
   "metadata": {},
   "outputs": [
    {
     "name": "stdout",
     "output_type": "stream",
     "text": [
      "Velvet Lions from Mars\n",
      "Lunar Ghosts of Destruction\n",
      "Raging Kings of Destruction\n",
      "Primal Lions of the Underground\n",
      "Crystal Heroes in Exile\n"
     ]
    },
    {
     "data": {
      "text/plain": [
       "allTrackIds = List(43, 152, 184, 147, 1, 10, 92, 94, 143, 82, 49, 162, 90, 51, 5, 56, 7, 80, 80, 162, 12, 71, 196, 150, 43, 17, 174, 105, 192, 193, 124, 4, 141, 170, 195, 166, 146, 113, 59, 97, 41, 188, 29, 95, 90, 181, 64, 43, 18, 39, 96, 87, 108, 42, 86, 44, 176, 40, 87, 179, 130, 183, 33, 179, 185, 87, 49, 71, 79, 4, 61, 159, 18, 61, 194, 154, 30, 143, 113, 119, 138, 149, 101, 160, 184, 174, 147, 16, 194, 168, 42, 126, 137, 111, 71, 189, 8, 23, 114, 50, 174, 116, 16, 32, 196, 48, 5, 150, 125, 95, 126, 84, 160, 12, 171, 154, 99, 123, 136, 86, 51, 47, 131, 183, 7, 79, 188, 199, 6, 55, 158, 150, 109, 198, 92, 170, 45, 128, 179, 17, 84, 97, 138, 37, 130, 55, 139, 172, 35, 3, 161, 143, 143, 166, 165, 190, 38, 92, 17, 172, 161, 161, 67, 40, 157, 173, 114, 111, 46, 19, 59, 16, 45...\n"
      ]
     },
     "metadata": {},
     "output_type": "display_data"
    },
    {
     "data": {
      "text/plain": [
       "List(43, 152, 184, 147, 1, 10, 92, 94, 143, 82, 49, 162, 90, 51, 5, 56, 7, 80, 80, 162, 12, 71, 196, 150, 43, 17, 174, 105, 192, 193, 124, 4, 141, 170, 195, 166, 146, 113, 59, 97, 41, 188, 29, 95, 90, 181, 64, 43, 18, 39, 96, 87, 108, 42, 86, 44, 176, 40, 87, 179, 130, 183, 33, 179, 185, 87, 49, 71, 79, 4, 61, 159, 18, 61, 194, 154, 30, 143, 113, 119, 138, 149, 101, 160, 184, 174, 147, 16, 194, 168, 42, 126, 137, 111, 71, 189, 8, 23, 114, 50, 174, 116, 16, 32, 196, 48, 5, 150, 125, 95, 126, 84, 160, 12, 171, 154, 99, 123, 136, 86, 51, 47, 131, 183, 7, 79, 188, 199, 6, 55, 158, 150, 109, 198, 92, 170, 45, 128, 179, 17, 84, 97, 138, 37, 130, 55, 139, 172, 35, 3, 161, 143, 143, 166, 165, 190, 38, 92, 17, 172, 161, 161, 67, 40, 157, 173, 114, 111, 46, 19, 59, 16, 45..."
      ]
     },
     "execution_count": 11,
     "metadata": {},
     "output_type": "execute_result"
    }
   ],
   "source": [
    "val allTrackIds: List[Int] = invoiceList.flatMap(_.invoiceListItem.map(_.trackId))\n",
    "val trackIdToCount: Map[Int, Int] = allTrackIds.groupBy(id => id).map {\n",
    "  case (trackId, list) => (trackId, list.size)\n",
    "}\n",
    "val sortedTrackIds: List[(Int, Int)] = trackIdToCount.toList.sortBy { case (_, count) => -count }\n",
    "val top5TrackIds: List[Int] = sortedTrackIds.take(5).map { case (trackId, _) => trackId }\n",
    "val top5Tracks: List[Track] = top5TrackIds.flatMap(id => trackList.find(_.id == id))\n",
    "\n",
    "val top5Titles: List[String] = top5Tracks.map(_.name)\n",
    "top5Titles.foreach(println)"
   ]
  },
  {
   "cell_type": "code",
   "execution_count": 12,
   "id": "59168705",
   "metadata": {},
   "outputs": [
    {
     "data": {
      "text/plain": [
       "genreIdToInvoiceCount = Map(5 -> 106, 10 -> 121, 24 -> 142, 25 -> 279, 14 -> 112, 20 -> 186, 1 -> 135, 6 -> 205, 21 -> 299, 9 -> 309, 13 -> 102, 2 -> 304, 17 -> 196, 22 -> 153, 12 -> 188, 7 -> 277, 3 -> 479, 18 -> 245, 16 -> 255, 11 -> 175, 23 -> 170, 8 -> 202, 19 -> 221, 4 -> 381, 15 -> 431)\n"
      ]
     },
     "metadata": {},
     "output_type": "display_data"
    },
    {
     "data": {
      "text/plain": [
       "Map(5 -> 106, 10 -> 121, 24 -> 142, 25 -> 279, 14 -> 112, 20 -> 186, 1 -> 135, 6 -> 205, 21 -> 299, 9 -> 309, 13 -> 102, 2 -> 304, 17 -> 196, 22 -> 153, 12 -> 188, 7 -> 277, 3 -> 479, 18 -> 245, 16 -> 255, 11 -> 175, 23 -> 170, 8 -> 202, 19 -> 221, 4 -> 381, 15 -> 431)"
      ]
     },
     "execution_count": 12,
     "metadata": {},
     "output_type": "execute_result"
    }
   ],
   "source": [
    "val genreIdToInvoiceCount: Map[Int, Int] = invoiceList.flatMap { invoice =>\n",
    "    val genreIds = invoice.invoiceListItem\n",
    "      .flatMap(item => trackList.find(_.id == item.trackId).map(_.genreId))\n",
    "      .distinct\n",
    "\n",
    "    genreIds.map(genreId => (genreId, 1))\n",
    "  }\n",
    "  .groupBy(_._1)\n",
    "  .mapValues(_.map(_._2).sum)\n",
    "  .toMap"
   ]
  },
  {
   "cell_type": "markdown",
   "id": "f3abc363",
   "metadata": {},
   "source": [
    "### ÉTAPE 3"
   ]
  },
  {
   "cell_type": "code",
   "execution_count": 14,
   "id": "cd746516",
   "metadata": {},
   "outputs": [
    {
     "name": "stdout",
     "output_type": "stream",
     "text": [
      "Le plus haut responsable de Michael Mitchell est Andrew Adams (General Manager)\n"
     ]
    },
    {
     "data": {
      "text/plain": [
       "employeeMap = Map(5 -> Employee(5,Johnson,Steve,Sales Support Agent,2), 1 -> Employee(1,Adams,Andrew,General Manager,0), 6 -> Employee(6,Mitchell,Michael,IT Manager,1), 2 -> Employee(2,Edwards,Nancy,Sales Manager,1), 7 -> Employee(7,King,Robert,IT Staff,6), 3 -> Employee(3,Peacock,Jane,Sales Support Agent,2), 8 -> Employee(8,Callahan,Laura,IT Staff,6), 4 -> Employee(4,Park,Margaret,Sales Support Agent,2))\n",
       "employee = Employee(6,Mitchell,Michael,IT Manager,1)\n",
       "topManager = Employee(1,Adams,Andrew,General Manager,0)\n"
      ]
     },
     "metadata": {},
     "output_type": "display_data"
    },
    {
     "data": {
      "text/plain": [
       "findTopManager: (emp: Employee, employeeMap: Map[Int,Employee])Employee\n"
      ]
     },
     "metadata": {},
     "output_type": "display_data"
    },
    {
     "data": {
      "text/plain": [
       "Employee(1,Adams,Andrew,General Manager,0)"
      ]
     },
     "execution_count": 14,
     "metadata": {},
     "output_type": "execute_result"
    }
   ],
   "source": [
    "def findTopManager(emp: Employee, employeeMap: Map[Int, Employee]): Employee = {\n",
    "    if (emp.reportsTo == 0 || !employeeMap.contains(emp.reportsTo)) emp\n",
    "    else findTopManager(employeeMap(emp.reportsTo), employeeMap)\n",
    "}\n",
    "\n",
    "val employeeMap: Map[Int, Employee] = employees.map(e => e.id -> e).toMap\n",
    "\n",
    "val employee = employeeMap(6)\n",
    "val topManager = findTopManager(employee, employeeMap)\n",
    "\n",
    "println(s\"Le plus haut responsable de ${employee.firstName} ${employee.lastName} est ${topManager.firstName} ${topManager.lastName} (${topManager.title})\")"
   ]
  }
 ],
 "metadata": {
  "kernelspec": {
   "display_name": "Apache Toree - Scala",
   "language": "scala",
   "name": "apache_toree_scala"
  },
  "language_info": {
   "codemirror_mode": "text/x-scala",
   "file_extension": ".scala",
   "mimetype": "text/x-scala",
   "name": "scala",
   "pygments_lexer": "scala",
   "version": "2.12.15"
  }
 },
 "nbformat": 4,
 "nbformat_minor": 5
}
