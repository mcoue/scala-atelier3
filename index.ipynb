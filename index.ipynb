{
 "cells": [
  {
   "cell_type": "markdown",
   "id": "44584dbf",
   "metadata": {},
   "source": [
    "# ATELIER 2"
   ]
  },
  {
   "cell_type": "markdown",
   "id": "532e0448",
   "metadata": {},
   "source": [
    "### ÉTAPE 1"
   ]
  },
  {
   "cell_type": "code",
   "execution_count": 33,
   "id": "9863aff3",
   "metadata": {},
   "outputs": [],
   "source": [
    "import scala.collection.immutable.HashMap\n",
    "import scala.util.Random"
   ]
  },
  {
   "cell_type": "code",
   "execution_count": 34,
   "id": "7c7cad23",
   "metadata": {},
   "outputs": [
    {
     "data": {
      "text/plain": [
       "defined class Employee\n",
       "defined class MediaType\n",
       "defined class Genre\n",
       "defined class Track\n",
       "defined class InvoiceItem\n",
       "defined class Invoice\n"
      ]
     },
     "metadata": {},
     "output_type": "display_data"
    }
   ],
   "source": [
    "case class Employee(\n",
    "    val id: Int,\n",
    "    val lastName: String,\n",
    "    val firstName: String,\n",
    "    val title: String,\n",
    "    val reportsTo: Int\n",
    ")\n",
    "\n",
    "case class MediaType(val id: Int, val name: String)\n",
    "\n",
    "case class Genre(val id: Int, val name: String)\n",
    "\n",
    "case class Track(\n",
    "    val id: Int,\n",
    "    val name: String,\n",
    "    val genreId: Int,\n",
    "    val mediaTypeId: Int\n",
    ")\n",
    "\n",
    "case class InvoiceItem(\n",
    "    val id: Int,\n",
    "    val invoiceId: Int,\n",
    "    val trackId: Int,\n",
    "    val unitPrice: Double,\n",
    "    val quantity: Int\n",
    ")\n",
    "\n",
    "case class Invoice(val id: Int, val invoiceList: List[InvoiceItem])\n"
   ]
  },
  {
   "cell_type": "markdown",
   "id": "4ab8df1b",
   "metadata": {},
   "source": [
    "### ÉTAPE 2"
   ]
  },
  {
   "cell_type": "code",
   "execution_count": 35,
   "id": "ea3c6738",
   "metadata": {},
   "outputs": [
    {
     "data": {
      "text/plain": [
       "genres = List(Genre(1,Rock), Genre(2,Jazz), Genre(3,Metal), Genre(4,Alternative & Punk), Genre(5,Rock And Roll), Genre(6,Blues), Genre(7,Latin), Genre(8,Reggae), Genre(9,Pop), Genre(10,Soundtrack), Genre(11,Bossa Nova), Genre(12,Easy Listening), Genre(13,Heavy Metal), Genre(14,R&B/Soul), Genre(15,Electronica/Dance), Genre(16,World), Genre(17,Hip Hop/Rap), Genre(18,Science Fiction), Genre(19,TV Shows), Genre(20,Sci Fi & Fantasy), Genre(21,Drama), Genre(22,Comedy), Genre(23,Alternative), Genre(24,Classical), Genre(25,Opera))\n",
       "mediaTypes = List(MediaType(1,MPEG audio file), MediaType(2,Protected AAC audio file), MediaType(3,Protected MPEG-4 video file), MediaType(4,Purchased AAC audio file), MediaType(5,AAC audio file))\n",
       "employees = List(Employee...\n"
      ]
     },
     "metadata": {},
     "output_type": "display_data"
    },
    {
     "data": {
      "text/plain": [
       "List(Employee..."
      ]
     },
     "execution_count": 35,
     "metadata": {},
     "output_type": "execute_result"
    }
   ],
   "source": [
    "val genres: List[Genre] = List(\n",
    "  new Genre(1, \"Rock\"),\n",
    "  new Genre(2, \"Jazz\"),\n",
    "  new Genre(3, \"Metal\"),\n",
    "  new Genre(4, \"Alternative & Punk\"),\n",
    "  new Genre(5, \"Rock And Roll\"),\n",
    "  new Genre(6, \"Blues\"),\n",
    "  new Genre(7, \"Latin\"),\n",
    "  new Genre(8, \"Reggae\"),\n",
    "  new Genre(9, \"Pop\"),\n",
    "  new Genre(10, \"Soundtrack\"),\n",
    "  new Genre(11, \"Bossa Nova\"),\n",
    "  new Genre(12, \"Easy Listening\"),\n",
    "  new Genre(13, \"Heavy Metal\"),\n",
    "  new Genre(14, \"R&B/Soul\"),\n",
    "  new Genre(15, \"Electronica/Dance\"),\n",
    "  new Genre(16, \"World\"),\n",
    "  new Genre(17, \"Hip Hop/Rap\"),\n",
    "  new Genre(18, \"Science Fiction\"),\n",
    "  new Genre(19, \"TV Shows\"),\n",
    "  new Genre(20, \"Sci Fi & Fantasy\"),\n",
    "  new Genre(21, \"Drama\"),\n",
    "  new Genre(22, \"Comedy\"),\n",
    "  new Genre(23, \"Alternative\"),\n",
    "  new Genre(24, \"Classical\"),\n",
    "  new Genre(25, \"Opera\")\n",
    ")\n",
    "\n",
    "val mediaTypes: List[MediaType] = List(\n",
    "  new MediaType(1, \"MPEG audio file\"),\n",
    "  new MediaType(2, \"Protected AAC audio file\"),\n",
    "  new MediaType(3, \"Protected MPEG-4 video file\"),\n",
    "  new MediaType(4, \"Purchased AAC audio file\"),\n",
    "  new MediaType(5, \"AAC audio file\")\n",
    ")\n",
    "\n",
    "val employees: List[Employee] = List(\n",
    "  new Employee(1, \"Adams\", \"Andrew\", \"General Manager\", 1),\n",
    "  new Employee(2, \"Edwards\", \"Nancy\", \"Sales Manager\", 1),\n",
    "  new Employee(3, \"Peacock\", \"Jane\", \"Sales Support Agent\", 2),\n",
    "  new Employee(4, \"Park\", \"Margaret\", \"Sales Support Agent\", 2),\n",
    "  new Employee(5, \"Johnson\", \"Steve\", \"Sales Support Agent\", 2),\n",
    "  new Employee(6, \"Mitchell\", \"Michael\", \"IT Manager\", 1),\n",
    "  new Employee(7, \"King\", \"Robert\", \"IT Staff\", 6),\n",
    "  new Employee(8, \"Callahan\", \"Laura\", \"IT Staff\", 6)\n",
    ")\n",
    "\n",
    "val adjectifs: HashMap[Int, String] = HashMap(\n",
    "  1 -> \"Cosmic\",\n",
    "  2 -> \"Electric\",\n",
    "  3 -> \"Velvet\",\n",
    "  4 -> \"Mystic\",\n",
    "  5 -> \"Atomic\",\n",
    "  6 -> \"Phantom\",\n",
    "  7 -> \"Silent\",\n",
    "  8 -> \"Savage\",\n",
    "  9 -> \"Eternal\",\n",
    "  10 -> \"Digital\",\n",
    "  11 -> \"Lost\",\n",
    "  12 -> \"Sacred\",\n",
    "  13 -> \"Wild\",\n",
    "  14 -> \"Urban\",\n",
    "  15 -> \"Golden\",\n",
    "  16 -> \"Crystal\",\n",
    "  17 -> \"Liquid\",\n",
    "  18 -> \"Toxic\",\n",
    "  19 -> \"Neon\",\n",
    "  20 -> \"Crimson\",\n",
    "  21 -> \"Stellar\",\n",
    "  22 -> \"Raging\",\n",
    "  23 -> \"Arctic\",\n",
    "  24 -> \"Sonic\",\n",
    "  25 -> \"Primal\",\n",
    "  26 -> \"Midnight\",\n",
    "  27 -> \"Screaming\",\n",
    "  28 -> \"Infinite\",\n",
    "  29 -> \"Royal\",\n",
    "  30 -> \"Lunar\"\n",
    ")\n",
    "\n",
    "val noms: HashMap[Int, String] = HashMap(\n",
    "  1 -> \"Echo\",\n",
    "  2 -> \"Giants\",\n",
    "  3 -> \"Wolves\",\n",
    "  4 -> \"Horizon\",\n",
    "  5 -> \"Empire\",\n",
    "  6 -> \"Void\",\n",
    "  7 -> \"Thunder\",\n",
    "  8 -> \"Dragons\",\n",
    "  9 -> \"Saints\",\n",
    "  10 -> \"Kings\",\n",
    "  11 -> \"Ghosts\",\n",
    "  12 -> \"Ravens\",\n",
    "  13 -> \"Pirates\",\n",
    "  14 -> \"Heroes\",\n",
    "  15 -> \"Rebels\",\n",
    "  16 -> \"Demons\",\n",
    "  17 -> \"Machines\",\n",
    "  18 -> \"Angels\",\n",
    "  19 -> \"Knights\",\n",
    "  20 -> \"Lions\",\n",
    "  21 -> \"Shadows\",\n",
    "  22 -> \"Zombies\",\n",
    "  23 -> \"Wizards\",\n",
    "  24 -> \"Killers\",\n",
    "  25 -> \"Titans\",\n",
    "  26 -> \"Outlaws\",\n",
    "  27 -> \"Rebels\",\n",
    "  28 -> \"Prophets\",\n",
    "  29 -> \"Bandits\",\n",
    "  30 -> \"Warriors\"\n",
    ")\n",
    "\n",
    "val complements: HashMap[Int, String] = HashMap(\n",
    "  1 -> \"of Doom\",\n",
    "  2 -> \"in Chains\",\n",
    "  3 -> \"from Mars\",\n",
    "  4 -> \"of the North\",\n",
    "  5 -> \"of Death\",\n",
    "  6 -> \"in Disguise\",\n",
    "  7 -> \"of the Night\",\n",
    "  8 -> \"from Hell\",\n",
    "  9 -> \"of Tomorrow\",\n",
    "  10 -> \"in Flames\",\n",
    "  11 -> \"of the Deep\",\n",
    "  12 -> \"from Beyond\",\n",
    "  13 -> \"of Destruction\",\n",
    "  14 -> \"in Shadow\",\n",
    "  15 -> \"from the Sky\",\n",
    "  16 -> \"of the Abyss\",\n",
    "  17 -> \"in Exile\",\n",
    "  18 -> \"from the East\",\n",
    "  19 -> \"of Eternity\",\n",
    "  20 -> \"from the Desert\",\n",
    "  21 -> \"of the Underground\"\n",
    ")"
   ]
  },
  {
   "cell_type": "code",
   "execution_count": 36,
   "id": "5000dec4",
   "metadata": {},
   "outputs": [
    {
     "data": {
      "text/plain": [
       "defined object Track\n"
      ]
     },
     "metadata": {},
     "output_type": "display_data"
    },
    {
     "data": {
      "text/plain": [
       "warning: previously defined class Track is not a companion to object Track.\n",
       "Companions must be defined together; you may wish to use :paste mode for this.\n"
      ]
     },
     "metadata": {},
     "output_type": "display_data"
    }
   ],
   "source": [
    "object Track {\n",
    "  def generateTrack(id: Int): Track = {\n",
    "    val randomAdjective: String = adjectifs.getOrElse(Random.nextInt(30) + 1, \"\")\n",
    "    val randomName: String = noms.getOrElse(Random.nextInt(30) + 1, \"\")\n",
    "    val randomComplement: String = complements.getOrElse(Random.nextInt(21) + 1, \"\")\n",
    "    \n",
    "    val title: String = s\"$randomAdjective $randomName $randomComplement\"\n",
    "    val genreId: Int = genres(Random.nextInt(genres.size)).id\n",
    "    val mediaTypeId: Int = mediaTypes(Random.nextInt(mediaTypes.size)).id\n",
    "\n",
    "    new Track(id, title, genreId, mediaTypeId)\n",
    "  }\n",
    "}"
   ]
  },
  {
   "cell_type": "code",
   "execution_count": 37,
   "id": "c5c29411",
   "metadata": {},
   "outputs": [
    {
     "data": {
      "text/plain": [
       "trackList = List(Track(1,Cosmic Titans from the East,13,4), Track(2,Cosmic Machines in Shadow,10,5), Track(3,Stellar Horizon of Eternity,14,2), Track(4,Crimson Rebels from Mars,8,5), Track(5,Toxic Rebels of the Abyss,19,3), Track(6,Electric Killers of Eternity,21,1), Track(7,Raging Ghosts of Doom,17,4), Track(8,Arctic Giants from the East,3,1), Track(9,Raging Knights of Doom,15,4), Track(10,Infinite Wolves from Beyond,6,2), Track(11,Screaming Echo of Tomorrow,20,4), Track(12,Lost Horizon of the Deep,9,1), Track(13,Eternal Machines from Beyond,18,5), Track(14,Royal Void of the Deep,7,1), Track(15,Crimson Zombies of Doom,8,1), Track(16,Electric Shadows of Eternity,24,3), Track(17,Raging Warriors from the Desert,12,5), Track(18,Sonic Heroes from the Desert,23,2), Track(19,Toxi...\n"
      ]
     },
     "metadata": {},
     "output_type": "display_data"
    },
    {
     "data": {
      "text/plain": [
       "List(Track(1,Cosmic Titans from the East,13,4), Track(2,Cosmic Machines in Shadow,10,5), Track(3,Stellar Horizon of Eternity,14,2), Track(4,Crimson Rebels from Mars,8,5), Track(5,Toxic Rebels of the Abyss,19,3), Track(6,Electric Killers of Eternity,21,1), Track(7,Raging Ghosts of Doom,17,4), Track(8,Arctic Giants from the East,3,1), Track(9,Raging Knights of Doom,15,4), Track(10,Infinite Wolves from Beyond,6,2), Track(11,Screaming Echo of Tomorrow,20,4), Track(12,Lost Horizon of the Deep,9,1), Track(13,Eternal Machines from Beyond,18,5), Track(14,Royal Void of the Deep,7,1), Track(15,Crimson Zombies of Doom,8,1), Track(16,Electric Shadows of Eternity,24,3), Track(17,Raging Warriors from the Desert,12,5), Track(18,Sonic Heroes from the Desert,23,2), Track(19,Toxi..."
      ]
     },
     "execution_count": 37,
     "metadata": {},
     "output_type": "execute_result"
    }
   ],
   "source": [
    "val trackList: List[Track] = (for(index <- 1 to 200) yield {\n",
    "  Track.generateTrack(index)\n",
    "}).toList"
   ]
  },
  {
   "cell_type": "code",
   "execution_count": 38,
   "id": "d11b31b9",
   "metadata": {},
   "outputs": [
    {
     "data": {
      "text/plain": [
       "defined object Invoice\n"
      ]
     },
     "metadata": {},
     "output_type": "display_data"
    },
    {
     "data": {
      "text/plain": [
       "warning: previously defined class Invoice is not a companion to object Invoice.\n",
       "Companions must be defined together; you may wish to use :paste mode for this.\n"
      ]
     },
     "metadata": {},
     "output_type": "display_data"
    }
   ],
   "source": [
    "object Invoice {\n",
    "  def generateInvoice(id: Int): Invoice = { \n",
    "      val invoiceItemList: List[InvoiceItem] = (for(index <- 1 to Random.nextInt(5)+1) yield {\n",
    "        val trackId = trackList(Random.nextInt(trackList.size)).id\n",
    "        \n",
    "        new InvoiceItem(index, id, trackId, 10.35, 1)      \n",
    "      }).toList\n",
    "\n",
    "      new Invoice(id, invoiceItemList)\n",
    "  }  \n",
    "}"
   ]
  },
  {
   "cell_type": "code",
   "execution_count": 39,
   "id": "d363d830",
   "metadata": {},
   "outputs": [
    {
     "data": {
      "text/plain": [
       "invoiceList = List(Invoice(1,List(InvoiceItem(1,1,197,10.35,1), InvoiceItem(2,1,177,10.35,1), InvoiceItem(3,1,103,10.35,1), InvoiceItem(4,1,11,10.35,1))), Invoice(2,List(InvoiceItem(1,2,60,10.35,1), InvoiceItem(2,2,166,10.35,1), InvoiceItem(3,2,83,10.35,1), InvoiceItem(4,2,191,10.35,1))), Invoice(3,List(InvoiceItem(1,3,87,10.35,1), InvoiceItem(2,3,73,10.35,1))), Invoice(4,List(InvoiceItem(1,4,200,10.35,1))), Invoice(5,List(InvoiceItem(1,5,199,10.35,1), InvoiceItem(2,5,137,10.35,1))), Invoice(6,List(InvoiceItem(1,6,3,10.35,1), InvoiceItem(2,6,24,10.35,1), InvoiceItem(3,6,174,10.35,1), InvoiceItem(4,6,58,10.35,1))), Invoice(7,List(InvoiceItem(1,7,161,10.35,1))), Invoice(8,List(InvoiceItem(1,8,12,10.35,1), InvoiceItem(2,8,187,10.35,1))), Invoice(9,List(InvoiceItem(1,9,57,10....\n"
      ]
     },
     "metadata": {},
     "output_type": "display_data"
    },
    {
     "data": {
      "text/plain": [
       "List(Invoice(1,List(InvoiceItem(1,1,197,10.35,1), InvoiceItem(2,1,177,10.35,1), InvoiceItem(3,1,103,10.35,1), InvoiceItem(4,1,11,10.35,1))), Invoice(2,List(InvoiceItem(1,2,60,10.35,1), InvoiceItem(2,2,166,10.35,1), InvoiceItem(3,2,83,10.35,1), InvoiceItem(4,2,191,10.35,1))), Invoice(3,List(InvoiceItem(1,3,87,10.35,1), InvoiceItem(2,3,73,10.35,1))), Invoice(4,List(InvoiceItem(1,4,200,10.35,1))), Invoice(5,List(InvoiceItem(1,5,199,10.35,1), InvoiceItem(2,5,137,10.35,1))), Invoice(6,List(InvoiceItem(1,6,3,10.35,1), InvoiceItem(2,6,24,10.35,1), InvoiceItem(3,6,174,10.35,1), InvoiceItem(4,6,58,10.35,1))), Invoice(7,List(InvoiceItem(1,7,161,10.35,1))), Invoice(8,List(InvoiceItem(1,8,12,10.35,1), InvoiceItem(2,8,187,10.35,1))), Invoice(9,List(InvoiceItem(1,9,57,10...."
      ]
     },
     "execution_count": 39,
     "metadata": {},
     "output_type": "execute_result"
    }
   ],
   "source": [
    "val invoiceList: List[Invoice] = (for(index <- 1 to 2000) yield {\n",
    "  Invoice.generateInvoice(index)\n",
    "}).toList"
   ]
  }
 ],
 "metadata": {
  "kernelspec": {
   "display_name": "Apache Toree - Scala",
   "language": "scala",
   "name": "apache_toree_scala"
  },
  "language_info": {
   "codemirror_mode": "text/x-scala",
   "file_extension": ".scala",
   "mimetype": "text/x-scala",
   "name": "scala",
   "pygments_lexer": "scala",
   "version": "2.12.15"
  }
 },
 "nbformat": 4,
 "nbformat_minor": 5
}
